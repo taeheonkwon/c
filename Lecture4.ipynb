{
  "nbformat": 4,
  "nbformat_minor": 0,
  "metadata": {
    "kernelspec": {
      "display_name": "Python 3",
      "language": "python",
      "name": "python3"
    },
    "language_info": {
      "codemirror_mode": {
        "name": "ipython",
        "version": 3
      },
      "file_extension": ".py",
      "mimetype": "text/x-python",
      "name": "python",
      "nbconvert_exporter": "python",
      "pygments_lexer": "ipython3",
      "version": "3.7.3"
    },
    "colab": {
      "name": "Lecture4.ipynb",
      "provenance": [],
      "collapsed_sections": [],
      "include_colab_link": true
    }
  },
  "cells": [
    {
      "cell_type": "markdown",
      "metadata": {
        "id": "view-in-github",
        "colab_type": "text"
      },
      "source": [
        "<a href=\"https://colab.research.google.com/github/taeheonkwon/c/blob/main/Lecture4.ipynb\" target=\"_parent\"><img src=\"https://colab.research.google.com/assets/colab-badge.svg\" alt=\"Open In Colab\"/></a>"
      ]
    },
    {
      "cell_type": "markdown",
      "metadata": {
        "id": "cIdxLhZ1438-"
      },
      "source": [
        "***\n",
        "***\n",
        "# 문자열 메소드와 포멧팅\n",
        "***\n",
        "***"
      ]
    },
    {
      "cell_type": "markdown",
      "metadata": {
        "id": "ynXjuYKZ439H"
      },
      "source": [
        "***\n",
        "## 1 문자열 메소드(Methods)\n",
        "***"
      ]
    },
    {
      "cell_type": "code",
      "metadata": {
        "id": "suWsW-6v439I",
        "outputId": "6ccd15e5-db90-4ed1-f031-7c41066f1fc6"
      },
      "source": [
        "s = 'i like programming.'\n",
        "print(s.upper())\n",
        "print(s.upper().lower())\n",
        "print('I Like Programming'.swapcase())  # 대문자는 소문자로, 소문자는 대문자로 변환\n",
        "print(s.capitalize()) # 첫 문자를 대문자로 변환\n",
        "print(s.title())      # 각 단어의 첫 문자를 대문자로 변환 "
      ],
      "execution_count": null,
      "outputs": [
        {
          "output_type": "stream",
          "text": [
            "I LIKE PROGRAMMING.\n",
            "i like programming.\n",
            "i lIKE pROGRAMMING\n",
            "I like programming.\n",
            "I Like Programming.\n"
          ],
          "name": "stdout"
        }
      ]
    },
    {
      "cell_type": "code",
      "metadata": {
        "id": "0oqq9-zM439K",
        "colab": {
          "base_uri": "https://localhost:8080/"
        },
        "outputId": "29ccd49a-074e-4227-ed32-2cf9cf25dbf3"
      },
      "source": [
        "s = 'i like programming, i like swimming.'\n",
        "print(s.count('like'))       # 'like' 문자열이 출현한 횟수를 반환\n",
        "print()\n",
        "print(s.find('like'))        # 'like'의 첫글자의 인덱스인 위치를 반환\n",
        "print(s.find('programming')) # 'programming'의 첫글자 위치를 반환\n",
        "print(s.find('programmin'))  # 'programmin'의 첫글자 위치를 반환\n",
        "print(s.find('programmii'))  # 'programmii' 단어는 없기 때문에 -1 반환\n",
        "print()\n",
        "print(s.find('like', 3))     # offset=3 부터 'like'을 검색하여 'like'의 첫글자 위치 반환 \n",
        "print(s.find('my'))          # 'my' 단어는 없기 때문에 -1 반환"
      ],
      "execution_count": null,
      "outputs": [
        {
          "output_type": "stream",
          "text": [
            "2\n",
            "\n",
            "2\n",
            "7\n",
            "7\n",
            "-1\n",
            "\n",
            "22\n",
            "-1\n"
          ],
          "name": "stdout"
        }
      ]
    },
    {
      "cell_type": "code",
      "metadata": {
        "id": "e9YNbQsx439L",
        "outputId": "18543ffe-7ac8-4130-fd06-3ad91c3f745b"
      },
      "source": [
        "s = 'i like programming, i like swimming.'\n",
        "print(s.startswith('i like')) # 'i like'로 시작하는 문자열인지 판단\n",
        "print(s.startswith('I like')) # 대소문자 구별\n",
        "print()\n",
        "\n",
        "print(s.endswith('swimming.')) # 'swimming.'로 끝나는 문자열인지 판단\n",
        "print(s.startswith('progr', 7)) # 7번째 문자열이 'progr'로 시작하는지 판단\n",
        "print()"
      ],
      "execution_count": null,
      "outputs": [
        {
          "output_type": "stream",
          "text": [
            "True\n",
            "False\n",
            "\n",
            "True\n",
            "True\n",
            "\n"
          ],
          "name": "stdout"
        }
      ]
    },
    {
      "cell_type": "code",
      "metadata": {
        "colab": {
          "base_uri": "https://localhost:8080/"
        },
        "id": "jAlxHXFf439L",
        "outputId": "17ffc50b-a623-46ac-c583-abf5b65cdace"
      },
      "source": [
        "u = ' spam and ham          '\n",
        "print(len(u))\n",
        "print(u.strip())  # 좌우 공백을 제거하여 새로운 스트링 생성\n",
        "print(u)          # 스트링은 변경불가능 \n",
        "y = u.strip()     # 즉, strip()는 새로운 스트링을 생성함\n",
        "print(y)\n",
        "print(len(y))\n",
        "print()\n",
        "\n",
        "print(u.rstrip()) # 오른쪽 공백 제거\n",
        "print(u.lstrip()) # 왼쪽 공백 제거   \n",
        "print()\n",
        "\n",
        "print('     abc '.strip())                            \n"
      ],
      "execution_count": null,
      "outputs": [
        {
          "output_type": "stream",
          "text": [
            "23\n",
            "spam and ham\n",
            " spam and ham          \n",
            "spam and ham\n",
            "12\n",
            "\n",
            " spam and ham\n",
            "spam and ham          \n",
            "\n",
            "abc\n",
            "abc\n"
          ],
          "name": "stdout"
        }
      ]
    },
    {
      "cell_type": "code",
      "metadata": {
        "id": "WmcVInNv439M",
        "outputId": "33877a2d-1de1-4b40-d084-a6492574d202"
      },
      "source": [
        "p = ' \\t abc \\t '\n",
        "print(p)\n",
        "print(p.strip()) # \\t도 공백문자이므로 제거됨"
      ],
      "execution_count": null,
      "outputs": [
        {
          "output_type": "stream",
          "text": [
            " \t abc \t \n",
            "abc\n"
          ],
          "name": "stdout"
        }
      ]
    },
    {
      "cell_type": "code",
      "metadata": {
        "id": "iUX5m38u439M",
        "outputId": "e7c68d07-6074-4b1e-b5b8-16752fd271f4"
      },
      "source": [
        "u = 'spam and ham'\n",
        "print(u.replace('spam', 'spam, egg')) # replace()는 새로운 스트링을 생성함\n",
        "print(u)"
      ],
      "execution_count": null,
      "outputs": [
        {
          "output_type": "stream",
          "text": [
            "spam, egg and ham\n",
            "spam and ham\n"
          ],
          "name": "stdout"
        }
      ]
    },
    {
      "cell_type": "code",
      "metadata": {
        "id": "qLuqc7K1439N",
        "outputId": "65bedb1d-2ce3-4b52-de10-5d8be3b85f23"
      },
      "source": [
        "u = ' spam and ham     '\n",
        "print(u.split()) # 공백으로 분리 (모든 공백 제거 및 문자열 내의 단어 리스트를 얻을 수 있음)\n",
        "print(u.split('and')) # 'and'로 분리\n",
        "print()\n",
        "\n",
        "u2 = 'spam and ham\\tegg\\ncheese'\n",
        "print(u2.split())"
      ],
      "execution_count": null,
      "outputs": [
        {
          "output_type": "stream",
          "text": [
            "['spam', 'and', 'ham']\n",
            "[' spam ', ' ham     ']\n",
            "\n",
            "['spam', 'and', 'ham', 'egg', 'cheese']\n"
          ],
          "name": "stdout"
        }
      ]
    },
    {
      "cell_type": "code",
      "metadata": {
        "id": "K3yWsGow439N",
        "outputId": "59058072-5686-4ff5-ae70-5a91d87f39d7"
      },
      "source": [
        "u = 'spam ham\\tegg\\ncheese'\n",
        "t = u.split()     # 문자열 내의 단어 리스트    \n",
        "print(t)\n",
        "print()\n",
        "t2 = ':'.join(t)  # 리스트 t 내부의 각 원소들을 ':'로 연결한 문자열 반환\n",
        "print(type(t2))\n",
        "# <type 'str'>\n",
        "print(t2)\n",
        "print()\n",
        "\n",
        "t3 = \",\".join(t)  # 리스트 t 내부의 각 원소들을 ','으로 연결한 문자열 반환\n",
        "print(t3)\n",
        "print()\n",
        "\n",
        "t4 = '\\n'.join(t) # 리스트 t 내부의 각 원소들을 '\\n'으로 연결한 문자열 반환\n",
        "print(t4)\n",
        "print()"
      ],
      "execution_count": null,
      "outputs": [
        {
          "output_type": "stream",
          "text": [
            "['spam', 'ham', 'egg', 'cheese']\n",
            "\n",
            "<class 'str'>\n",
            "spam:ham:egg:cheese\n",
            "\n",
            "spam,ham,egg,cheese\n",
            "\n",
            "spam\n",
            "ham\n",
            "egg\n",
            "cheese\n",
            "\n"
          ],
          "name": "stdout"
        }
      ]
    },
    {
      "cell_type": "code",
      "metadata": {
        "id": "5LmZW9dt439O",
        "outputId": "2fcba33a-798e-4aeb-f8b1-1f60ec6b5854"
      },
      "source": [
        "#u2 = u\"스팸 햄 계란 치즈\" \n",
        "u2 = \"스팸 햄 계란 치즈\"  # python 3 부터는 u 리터럴 표기 불필요\n",
        "t2 = u2.split()\n",
        "print(t2)\n",
        "print(t2[0], t2[1], t2[2], t2[3])"
      ],
      "execution_count": null,
      "outputs": [
        {
          "output_type": "stream",
          "text": [
            "['스팸', '햄', '계란', '치즈']\n",
            "스팸 햄 계란 치즈\n"
          ],
          "name": "stdout"
        }
      ]
    },
    {
      "cell_type": "code",
      "metadata": {
        "id": "RjDVIpy4439O",
        "outputId": "c3bb5b89-888d-4d51-853c-40502dcfa8ab"
      },
      "source": [
        "lines = '''first line\n",
        "second line\n",
        "third line'''\n",
        "print(type(lines))\n",
        "lines2 = lines.splitlines() # 문자열을 라인 단위로 분리한 각 원소들을 지닌 리스트 반환\n",
        "print(type(lines2))\n",
        "print(lines2)\n",
        "\n",
        "\n",
        "# <type 'str'>\n",
        "# <type 'list'>\n",
        "# ['first line', 'second line', 'third line']"
      ],
      "execution_count": null,
      "outputs": [
        {
          "output_type": "stream",
          "text": [
            "<class 'str'>\n",
            "<class 'list'>\n",
            "['first line', 'second line', 'third line']\n"
          ],
          "name": "stdout"
        }
      ]
    },
    {
      "cell_type": "code",
      "metadata": {
        "id": "U5ggphwE439P",
        "outputId": "b9c5ca9e-5678-43e2-a5fb-266deb2f4bb6"
      },
      "source": [
        "u = 'spam and egg'\n",
        "c = u.center(60) # 60자리를 확보하되 기존 문자열을 가운데 정렬한 새로운 문자열 반환\n",
        "print(type(c))\n",
        "# <type 'str'>\n",
        "print(c)\n",
        "print(u.ljust(60)) # 60자리를 확보하되 기존 문자열을 왼쪽 정렬한 새로운 문자열 반환\n",
        "print(u.rjust(60)) # 60자리를 확보하되 기존 문자열을 오른쪽 정렬한 새로운 문자열 반환"
      ],
      "execution_count": null,
      "outputs": [
        {
          "output_type": "stream",
          "text": [
            "<class 'str'>\n",
            "                        spam and egg                        \n",
            "spam and egg                                                \n",
            "                                                spam and egg\n"
          ],
          "name": "stdout"
        }
      ]
    },
    {
      "cell_type": "code",
      "metadata": {
        "id": "KNvtZb0w439P",
        "outputId": "da7b7764-befd-44d3-b25b-95ef19e3f69c"
      },
      "source": [
        "u = 'spam and egg'\n",
        "print(u.center(60, '-')) # 공백에 채워질 문자를 선택할 수 있음\n",
        "print(u.ljust(60, '-'))\n",
        "print(u.rjust(60, '-'))"
      ],
      "execution_count": null,
      "outputs": [
        {
          "output_type": "stream",
          "text": [
            "------------------------spam and egg------------------------\n",
            "spam and egg------------------------------------------------\n",
            "------------------------------------------------spam and egg\n"
          ],
          "name": "stdout"
        }
      ]
    },
    {
      "cell_type": "code",
      "metadata": {
        "id": "-G6XxzZx439Q",
        "outputId": "a7af5706-150c-479f-9713-97847c88e32c"
      },
      "source": [
        "print('1234'.isdigit()) # 문자열 내의 Character들이 모두 숫자인가?\n",
        "print('abcd'.isalpha()) # 문자열 내의 Character들이 모두 영문자인가?\n",
        "print('1abc234'.isalnum()) # 문자열 내의 Character들이 모두 영문자 또는 숫자인가? \n",
        "print('abc'.islower()) # 문자열 내의 Character들이 모두 소문자인가?\n",
        "print('ABC'.isupper()) # 문자열 내의 Character들이 모두 대문자인가?\n",
        "print('\\t\\r\\n'.isspace()) # 문자열 내의 Character들이 모두 공백 문자인가?\n",
        "print('This Is A Title'.istitle()) # 문자열이 Title 형식 (각 단어의 첫글자가 대문자)인가?"
      ],
      "execution_count": null,
      "outputs": [
        {
          "output_type": "stream",
          "text": [
            "True\n",
            "True\n",
            "True\n",
            "True\n",
            "True\n",
            "True\n",
            "True\n"
          ],
          "name": "stdout"
        }
      ]
    },
    {
      "cell_type": "code",
      "metadata": {
        "id": "33oIGEG4439Q",
        "outputId": "4adcba3d-d1e2-4074-ab0d-13aa9b039b18"
      },
      "source": [
        "s = '123'\n",
        "print(s.zfill(5)) # 5글자 자리 확보뒤 문자열을 쓰되 남는 공백에는 zero (0)를 채움 \n",
        "print('goofy'.zfill(6)) # 6글자 자리 확보뒤 ..."
      ],
      "execution_count": null,
      "outputs": [
        {
          "output_type": "stream",
          "text": [
            "00123\n",
            "0goofy\n"
          ],
          "name": "stdout"
        }
      ]
    },
    {
      "cell_type": "markdown",
      "metadata": {
        "id": "_LQ6_vSC439Y"
      },
      "source": [
        "<p style='text-align: right;'>참고 문헌: 파이썬(열혈강의)(개정판 VER.2), 이강성, FreeLec, 2005년 8월 29일</p>"
      ]
    }
  ]
}